{
 "cells": [
  {
   "cell_type": "code",
   "execution_count": null,
   "id": "loose-rainbow",
   "metadata": {},
   "outputs": [],
   "source": [
    "import pandas as pd\n",
    "import numpy as np\n",
    "import nltk\n",
    "from nltk.corpus import stopwords\n",
    "import matplotlib.pyplot as plt\n",
    "nltk.download(\"stopwords\")\n",
    "import string\n",
    "%matplotlib inline"
   ]
  },
  {
   "cell_type": "code",
   "execution_count": null,
   "id": "sound-legend",
   "metadata": {},
   "outputs": [],
   "source": [
    "data = pd.read_csv('../input/spam-emails/data.csv')"
   ]
  },
  {
   "cell_type": "code",
   "execution_count": null,
   "id": "interracial-detective",
   "metadata": {},
   "outputs": [],
   "source": [
    "data.head()"
   ]
  },
  {
   "cell_type": "code",
   "execution_count": null,
   "id": "unlikely-geology",
   "metadata": {},
   "outputs": [],
   "source": [
    "data.shape"
   ]
  },
  {
   "cell_type": "code",
   "execution_count": null,
   "id": "nasty-relation",
   "metadata": {},
   "outputs": [],
   "source": [
    "data.drop_duplicates(inplace = True)"
   ]
  },
  {
   "cell_type": "code",
   "execution_count": null,
   "id": "difficult-niger",
   "metadata": {},
   "outputs": [],
   "source": [
    "data.shape"
   ]
  },
  {
   "cell_type": "code",
   "execution_count": null,
   "id": "norman-flexibility",
   "metadata": {},
   "outputs": [],
   "source": [
    "data.isnull().sum()"
   ]
  },
  {
   "cell_type": "code",
   "execution_count": null,
   "id": "sitting-denver",
   "metadata": {},
   "outputs": [],
   "source": [
    "vals = data['spam'].value_counts()\n",
    "data['spam'].value_counts()"
   ]
  },
  {
   "cell_type": "code",
   "execution_count": null,
   "id": "blond-google",
   "metadata": {},
   "outputs": [],
   "source": [
    "vals.plot(kind = 'pie')"
   ]
  },
  {
   "cell_type": "code",
   "execution_count": null,
   "id": "matched-ebony",
   "metadata": {},
   "outputs": [],
   "source": [
    "from nltk.stem import PorterStemmer\n",
    "from nltk.stem import WordNetLemmatizer"
   ]
  },
  {
   "cell_type": "code",
   "execution_count": null,
   "id": "planned-roommate",
   "metadata": {},
   "outputs": [],
   "source": [
    "ps = PorterStemmer()\n",
    "lem = WordNetLemmatizer()"
   ]
  },
  {
   "cell_type": "code",
   "execution_count": null,
   "id": "finite-combine",
   "metadata": {},
   "outputs": [],
   "source": [
    "def func1(text):\n",
    "    no_punc = [char for char in text if char not in string.punctuation]\n",
    "    no_punc = ''.join(no_punc)\n",
    "    return no_punc"
   ]
  },
  {
   "cell_type": "code",
   "execution_count": null,
   "id": "atmospheric-extent",
   "metadata": {},
   "outputs": [],
   "source": [
    "def func2(text):\n",
    "    stop_words = [word for word in text.split() if word not in stopwords.words('english')]\n",
    "#     stop_words = ''.join(stop_words)\n",
    "    return stop_words"
   ]
  },
  {
   "cell_type": "code",
   "execution_count": null,
   "id": "finished-opinion",
   "metadata": {},
   "outputs": [],
   "source": [
    "def func3(text):\n",
    "    stem_words = [word for word in text if ps.stem(word)]\n",
    "#     stop_words = ''.join(stop_words)\n",
    "    return stem_words"
   ]
  },
  {
   "cell_type": "code",
   "execution_count": null,
   "id": "recreational-officer",
   "metadata": {},
   "outputs": [],
   "source": [
    "def func4(text):\n",
    "    lem_words = [word for word in text if lem.lemmatize(word)]\n",
    "#     stop_words = ''.join(stop_words)\n",
    "    return lem_words"
   ]
  },
  {
   "cell_type": "code",
   "execution_count": null,
   "id": "naval-dakota",
   "metadata": {},
   "outputs": [],
   "source": [
    "def func5(text):\n",
    "    str_words = [word for word in text]\n",
    "    str_words = ' '.join(str_words)\n",
    "    return str_words"
   ]
  },
  {
   "cell_type": "code",
   "execution_count": null,
   "id": "numeric-designation",
   "metadata": {},
   "outputs": [],
   "source": [
    "data['text'] = data['text'].str.lower()"
   ]
  },
  {
   "cell_type": "code",
   "execution_count": null,
   "id": "bound-monaco",
   "metadata": {},
   "outputs": [],
   "source": [
    "data['text'] = data['text'].apply(func1)\n",
    "data['text'] = data['text'].apply(func2)\n",
    "data['text'] = data['text'].apply(func3)\n",
    "data['text'] = data['text'].apply(func4)\n",
    "data['text'] = data['text'].apply(func5)"
   ]
  },
  {
   "cell_type": "code",
   "execution_count": null,
   "id": "accurate-pension",
   "metadata": {},
   "outputs": [],
   "source": [
    "from sklearn.feature_extraction.text import CountVectorizer\n"
   ]
  },
  {
   "cell_type": "code",
   "execution_count": null,
   "id": "authorized-subscription",
   "metadata": {},
   "outputs": [],
   "source": [
    "vect = CountVectorizer()"
   ]
  },
  {
   "cell_type": "code",
   "execution_count": null,
   "id": "veterinary-absorption",
   "metadata": {},
   "outputs": [],
   "source": [
    "x = vect.fit_transform(data['text'])"
   ]
  },
  {
   "cell_type": "code",
   "execution_count": null,
   "id": "secure-surveillance",
   "metadata": {},
   "outputs": [],
   "source": [
    "x.shape"
   ]
  },
  {
   "cell_type": "code",
   "execution_count": null,
   "id": "operating-editor",
   "metadata": {},
   "outputs": [],
   "source": [
    "from sklearn.model_selection import train_test_split\n",
    "from sklearn.naive_bayes import MultinomialNB\n",
    "from sklearn.metrics import classification_report, confusion_matrix, accuracy_score"
   ]
  },
  {
   "cell_type": "code",
   "execution_count": null,
   "id": "happy-handbook",
   "metadata": {},
   "outputs": [],
   "source": [
    "xtrain, xtest, ytrain, ytest = train_test_split(x, data['spam'], random_state=10)"
   ]
  },
  {
   "cell_type": "code",
   "execution_count": null,
   "id": "fifty-insurance",
   "metadata": {},
   "outputs": [],
   "source": [
    "xtrain.shape\n",
    "xtest.shape"
   ]
  },
  {
   "cell_type": "code",
   "execution_count": null,
   "id": "alleged-sheriff",
   "metadata": {},
   "outputs": [],
   "source": [
    "classifier = MultinomialNB().fit(xtrain, ytrain)"
   ]
  },
  {
   "cell_type": "code",
   "execution_count": null,
   "id": "immune-subscriber",
   "metadata": {},
   "outputs": [],
   "source": [
    "pred = classifier.predict(xtrain)\n",
    "predt = classifier.predict(xtest)"
   ]
  },
  {
   "cell_type": "code",
   "execution_count": null,
   "id": "loaded-jacksonville",
   "metadata": {},
   "outputs": [],
   "source": [
    "print(classification_report(ytrain, pred))\n",
    "print(\"Confusion Matrix: \\n\", confusion_matrix(ytrain, pred))\n",
    "print(\"Accuracy: \\n\", accuracy_score(ytrain, pred))"
   ]
  },
  {
   "cell_type": "code",
   "execution_count": null,
   "id": "imposed-indianapolis",
   "metadata": {},
   "outputs": [],
   "source": [
    "print(classification_report(ytest, predt))\n",
    "print(\"Confusion Matrix: \\n\", confusion_matrix(ytest, predt))\n",
    "print(\"Accuracy: \\n\", accuracy_score(ytest, predt))"
   ]
  },
  {
   "cell_type": "code",
   "execution_count": null,
   "id": "pregnant-thunder",
   "metadata": {},
   "outputs": [],
   "source": []
  },
  {
   "cell_type": "code",
   "execution_count": null,
   "id": "intense-bacteria",
   "metadata": {},
   "outputs": [],
   "source": []
  }
 ],
 "metadata": {
  "kernelspec": {
   "display_name": "Python 3",
   "language": "python",
   "name": "python3"
  },
  "language_info": {
   "codemirror_mode": {
    "name": "ipython",
    "version": 3
   },
   "file_extension": ".py",
   "mimetype": "text/x-python",
   "name": "python",
   "nbconvert_exporter": "python",
   "pygments_lexer": "ipython3",
   "version": "3.9.1"
  }
 },
 "nbformat": 4,
 "nbformat_minor": 5
}
